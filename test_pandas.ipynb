{
  "nbformat": 4,
  "nbformat_minor": 0,
  "metadata": {
    "colab": {
      "provenance": [],
      "mount_file_id": "1hmW7GQId66N5emXZxY9rNnsh_3uTswxO",
      "authorship_tag": "ABX9TyOL283AOvw/+7ZJmF4FTNn1",
      "include_colab_link": true
    },
    "kernelspec": {
      "name": "python3",
      "display_name": "Python 3"
    },
    "language_info": {
      "name": "python"
    }
  },
  "cells": [
    {
      "cell_type": "markdown",
      "metadata": {
        "id": "view-in-github",
        "colab_type": "text"
      },
      "source": [
        "<a href=\"https://colab.research.google.com/github/binseunghyun/OSS2025/blob/main/test_pandas.ipynb\" target=\"_parent\"><img src=\"https://colab.research.google.com/assets/colab-badge.svg\" alt=\"Open In Colab\"/></a>"
      ]
    },
    {
      "cell_type": "code",
      "source": [
        "# prompt: /일별 역별 시간대별 승하차인원(2025년 1월).csv 파일을 읽고 적절한 차트로 출력해줘\n",
        "\n",
        "import pandas as pd\n",
        "import matplotlib.pyplot as plt\n",
        "import seaborn as sns\n",
        "\n",
        "# 파일 경로 설정 (Google Colab 환경에 맞게 수정)\n",
        "file_path = '/일별 역별 시간대별 승하차인원(2025년 1월).csv'\n",
        "\n",
        "try:\n",
        "    # CSV 파일 읽기\n",
        "    df = pd.read_csv(file_path, encoding='cp949')  # 한글 인코딩 문제 해결\n",
        "\n",
        "    # 데이터 전처리 (필요에 따라 추가)\n",
        "    # 예시: 날짜 형식 변환, 불필요한 열 삭제 등\n",
        "\n",
        "    # 차트 생성 (예시: 시간대별 승하차 인원 히스토그램)\n",
        "    plt.figure(figsize=(12, 6))\n",
        "    sns.histplot(df['승차인원'], kde=True, bins=20)  # '승차인원' 열을 히스토그램으로 표시\n",
        "    plt.title('시간대별 승하차 인원 분포')\n",
        "    plt.xlabel('승하차 인원')\n",
        "    plt.ylabel('빈도')\n",
        "    plt.show()\n",
        "\n",
        "    # 다른 차트 예시 (예: 역별 승차 인원 막대 그래프)\n",
        "    plt.figure(figsize=(10, 6))\n",
        "    station_counts = df.groupby('역명')['승차인원'].sum()  # 역별 승차인원 합계 계산\n",
        "    station_counts.plot(kind='bar')\n",
        "    plt.title('역별 승차인원 합계')\n",
        "    plt.xlabel('역명')\n",
        "    plt.ylabel('승차인원 합계')\n",
        "    plt.xticks(rotation=45, ha='right')  # x축 레이블 회전\n",
        "    plt.tight_layout()  # 레이블이 잘리는 문제 해결\n",
        "    plt.show()\n",
        "\n",
        "    # 데이터 분석 및 시각화 추가 (필요에 따라)\n",
        "\n",
        "\n",
        "except FileNotFoundError:\n",
        "    print(f\"파일 '{file_path}'를 찾을 수 없습니다. 파일 경로를 확인해주세요.\")\n",
        "except KeyError as e:\n",
        "    print(f\"데이터프레임에 '{e}' 열이 없습니다. 열 이름을 확인해주세요.\")\n",
        "except Exception as e:\n",
        "    print(f\"오류 발생: {e}\")\n"
      ],
      "metadata": {
        "id": "n2aNbWs13_21"
      },
      "execution_count": null,
      "outputs": []
    }
  ]
}